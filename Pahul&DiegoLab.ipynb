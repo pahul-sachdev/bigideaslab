{
 "cells": [
  {
   "cell_type": "code",
   "execution_count": null,
   "id": "4f96361b-cb18-4021-9615-090616e3f106",
   "metadata": {},
   "outputs": [],
   "source": [
    "nameIn = input(\"Please enter your name\")\n",
    "ageIn = int(input(\"Please enter your age\"))\n",
    "print(\"Hi\", nameIn, \"\\nYou would be\", ageIn*7, \"years old in dog years\")"
   ]
  },
  {
   "cell_type": "code",
   "execution_count": null,
   "id": "238d6d24-78fa-4179-bcdf-0f08c637a047",
   "metadata": {},
   "outputs": [],
   "source": []
  }
 ],
 "metadata": {
  "kernelspec": {
   "display_name": "Python 3 (ipykernel)",
   "language": "python",
   "name": "python3"
  },
  "language_info": {
   "codemirror_mode": {
    "name": "ipython",
    "version": 3
   },
   "file_extension": ".py",
   "mimetype": "text/x-python",
   "name": "python",
   "nbconvert_exporter": "python",
   "pygments_lexer": "ipython3",
   "version": "3.11.13"
  }
 },
 "nbformat": 4,
 "nbformat_minor": 5
}
