{
 "cells": [
  {
   "cell_type": "code",
   "execution_count": null,
   "id": "4f96361b-cb18-4021-9615-090616e3f106",
   "metadata": {},
   "outputs": [],
   "source": [
    "nameIn = input(\"Please enter your name\")"
   ]
  }
 ],
 "metadata": {
  "kernelspec": {
   "display_name": "Python 3 (ipykernel)",
   "language": "python",
   "name": "python3"
  },
  "language_info": {
   "codemirror_mode": {
    "name": "ipython",
    "version": 3
   },
   "file_extension": ".py",
   "mimetype": "text/x-python",
   "name": "python",
   "nbconvert_exporter": "python",
   "pygments_lexer": "ipython3",
   "version": "3.11.13"
  }
 },
 "nbformat": 4,
 "nbformat_minor": 5
}
